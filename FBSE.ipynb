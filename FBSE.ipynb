{
  "nbformat": 4,
  "nbformat_minor": 0,
  "metadata": {
    "colab": {
      "provenance": [],
      "authorship_tag": "ABX9TyPZHHunj2N+gFVjILVyF4rv",
      "include_colab_link": true
    },
    "kernelspec": {
      "name": "python3",
      "display_name": "Python 3"
    },
    "language_info": {
      "name": "python"
    }
  },
  "cells": [
    {
      "cell_type": "markdown",
      "metadata": {
        "id": "view-in-github",
        "colab_type": "text"
      },
      "source": [
        "<a href=\"https://colab.research.google.com/github/Satyam-BIT24/Satyam-BIT24/blob/main/FBSE.ipynb\" target=\"_parent\"><img src=\"https://colab.research.google.com/assets/colab-badge.svg\" alt=\"Open In Colab\"/></a>"
      ]
    },
    {
      "cell_type": "code",
      "source": [
        "\n",
        "import numpy as np\n",
        "from scipy.signal import fftconvolve\n",
        "from skimage.color import rgb2gray\n",
        "from skimage.filters import threshold_otsu\n",
        "\n",
        "def fbse_fawt_segmentation(image, filter_size=5, alpha=1, beta=1, gamma=1):\n",
        "    if len(image.shape) == 3:  # Convert input image to grayscale if it has 3 dimensions\n",
        "        image = rgb2gray(image)\n",
        "    fbse_filter = np.array([[1, -1], [-1, 1]])\n",
        "    fbse_filter = np.pad(fbse_filter, (filter_size // 2, filter_size // 2), mode='constant')\n",
        "    fbse_conv = fftconvolve(image, fbse_filter, mode='same')\n",
        "    std_dev = np.sqrt(fftconvolve(np.square(fbse_conv), np.ones((filter_size, filter_size)), mode='same') - np.square(fbse_conv))\n",
        "    global_thresh = threshold_otsu(image)\n",
        "    local_thresh = alpha * np.median(std_dev) + beta * np.mean(std_dev) + gamma * global_thresh\n",
        "    segmented_image = np.zeros_like(image)\n",
        "    segmented_image[image >= local_thresh] = 1\n",
        "    return segmented_image"
      ],
      "metadata": {
        "id": "wSKn9hY5n9z8"
      },
      "execution_count": 37,
      "outputs": []
    },
    {
      "cell_type": "code",
      "source": [
        "import matplotlib.pyplot as plt\n",
        "from skimage import data\n",
        "import cv2\n",
        "image = cv2.imread(\"/content/2016.07.15_14.38.35_SMG_LE_0N4p5I-AvgLOG_0195.bmp\")\n",
        "segmented_image = fbse_fawt_segmentation(image)\n",
        "plt.imshow(segmented_image, cmap='gray')\n",
        "plt.show()\n"
      ],
      "metadata": {
        "colab": {
          "base_uri": "https://localhost:8080/",
          "height": 323
        },
        "id": "kvvRmvN4n92S",
        "outputId": "d2c14b1b-532f-4ddd-c397-305810febf8a"
      },
      "execution_count": 38,
      "outputs": [
        {
          "output_type": "stream",
          "name": "stderr",
          "text": [
            "<ipython-input-37-1c27fe0b1e68>:12: RuntimeWarning: invalid value encountered in sqrt\n",
            "  std_dev = np.sqrt(fftconvolve(np.square(fbse_conv), np.ones((filter_size, filter_size)), mode='same') - np.square(fbse_conv))\n"
          ]
        },
        {
          "output_type": "display_data",
          "data": {
            "text/plain": [
              "<Figure size 432x288 with 1 Axes>"
            ],
            "image/png": "[encoded data removed]"
          },
          "metadata": {
            "needs_background": "light"
          }
        }
      ]
    },
    {
      "cell_type": "code",
      "source": [
        "import numpy as np\n",
        "import cv2\n",
        "from scipy.signal import fftconvolve\n",
        "from skimage.filters import threshold_otsu\n",
        "\n",
        "def fbse_fawt_segmentation(image, filter_size=3, alpha=1, beta=1, gamma=1):\n",
        "    # Create the FBSE filter\n",
        "    fbse_filter = np.array([[1, -1], [-1, 1]])\n",
        "    fbse_filter = np.pad(fbse_filter, (filter_size // 2, filter_size // 2), mode='constant')\n",
        "    \n",
        "    # Convolve the image with the FBSE filter\n",
        "    fbse_conv = fftconvolve(image, fbse_filter, mode='same')\n",
        "    \n",
        "    # Calculate the standard deviation of the convolution result\n",
        "    std_dev = np.sqrt(fftconvolve(np.square(fbse_conv), np.ones((filter_size, filter_size)), mode='same') - np.square(fbse_conv))\n",
        "    \n",
        "    # Calculate the threshold for segmenting the image\n",
        "    global_thresh = threshold_otsu(image)\n",
        "    local_thresh = alpha * np.median(std_dev) + beta * np.mean(std_dev) + gamma * global_thresh\n",
        "    \n",
        "    # Segment the image using the calculated threshold\n",
        "    segmented_image = np.zeros_like(image)\n",
        "    segmented_image[image >= local_thresh] = 1\n",
        "    \n",
        "    return segmented_image\n",
        "\n",
        "# Read the input image\n",
        "image = cv2.imread('/content/2016.07.15_14.38.35_SMG_LE_0N4p5I-AvgLOG_0195.bmp', cv2.IMREAD_GRAYSCALE)\n",
        "\n",
        "# Apply the segmentation algorithm\n",
        "segmented_image = fbse_fawt_segmentation(image)\n",
        "\n",
        "# Display the segmented image\n",
        "cv2_imshow(segmented_image)\n",
        "cv2.waitKey(0)\n",
        "cv2.destroyAllWindows()\n"
      ],
      "metadata": {
        "colab": {
          "base_uri": "https://localhost:8080/",
          "height": 286
        },
        "id": "ewuMvitJn94w",
        "outputId": "30250349-a357-4dbd-ed8e-c26ed90d1818"
      },
      "execution_count": 41,
      "outputs": [
        {
          "output_type": "stream",
          "name": "stderr",
          "text": [
            "<ipython-input-41-f1250454c335>:15: RuntimeWarning: invalid value encountered in sqrt\n",
            "  std_dev = np.sqrt(fftconvolve(np.square(fbse_conv), np.ones((filter_size, filter_size)), mode='same') - np.square(fbse_conv))\n"
          ]
        },
        {
          "output_type": "error",
          "ename": "NameError",
          "evalue": "ignored",
          "traceback": [
            "\u001b[0;31m---------------------------------------------------------------------------\u001b[0m",
            "\u001b[0;31mNameError\u001b[0m                                 Traceback (most recent call last)",
            "\u001b[0;32m<ipython-input-41-f1250454c335>\u001b[0m in \u001b[0;36m<module>\u001b[0;34m\u001b[0m\n\u001b[1;32m     32\u001b[0m \u001b[0;34m\u001b[0m\u001b[0m\n\u001b[1;32m     33\u001b[0m \u001b[0;31m# Display the segmented image\u001b[0m\u001b[0;34m\u001b[0m\u001b[0;34m\u001b[0m\u001b[0m\n\u001b[0;32m---> 34\u001b[0;31m \u001b[0mcv2_imshow\u001b[0m\u001b[0;34m(\u001b[0m\u001b[0msegmented_image\u001b[0m\u001b[0;34m)\u001b[0m\u001b[0;34m\u001b[0m\u001b[0;34m\u001b[0m\u001b[0m\n\u001b[0m\u001b[1;32m     35\u001b[0m \u001b[0mcv2\u001b[0m\u001b[0;34m.\u001b[0m\u001b[0mwaitKey\u001b[0m\u001b[0;34m(\u001b[0m\u001b[0;36m0\u001b[0m\u001b[0;34m)\u001b[0m\u001b[0;34m\u001b[0m\u001b[0;34m\u001b[0m\u001b[0m\n\u001b[1;32m     36\u001b[0m \u001b[0mcv2\u001b[0m\u001b[0;34m.\u001b[0m\u001b[0mdestroyAllWindows\u001b[0m\u001b[0;34m(\u001b[0m\u001b[0;34m)\u001b[0m\u001b[0;34m\u001b[0m\u001b[0;34m\u001b[0m\u001b[0m\n",
            "\u001b[0;31mNameError\u001b[0m: name 'cv2_imshow' is not defined"
          ]
        }
      ]
    },
    {
      "cell_type": "code",
      "source": [
        "import numpy as np\n",
        "import cv2\n",
        "from scipy.signal import fftconvolve\n",
        "from skimage.filters import threshold_otsu\n",
        "import matplotlib.pyplot as plt\n",
        "\n",
        "def fbse_fawt_segmentation(image, filter_size=8, alpha=0.5, beta=0.5, gamma=0.5):\n",
        "    # Create the FBSE filter\n",
        "    fbse_filter = np.array([[1, -1], [-1, 1]])\n",
        "    fbse_filter = np.pad(fbse_filter, (filter_size // 2, filter_size // 2), mode='constant')\n",
        "    \n",
        "    # Convolve the image with the FBSE filter\n",
        "    fbse_conv = fftconvolve(image, fbse_filter, mode='same')\n",
        "    \n",
        "    # Calculate the standard deviation of the convolution result\n",
        "    std_dev = np.sqrt(fftconvolve(np.square(fbse_conv), np.ones((filter_size, filter_size)), mode='same') - np.square(fbse_conv))\n",
        "    \n",
        "    # Calculate the threshold for segmenting the image\n",
        "    global_thresh = threshold_otsu(image)\n",
        "    local_thresh = alpha * np.median(std_dev) + beta * np.mean(std_dev) + gamma * global_thresh\n",
        "    \n",
        "    # Segment the image using the calculated threshold\n",
        "    segmented_image = np.zeros_like(image)\n",
        "    segmented_image[image >= local_thresh] = 1\n",
        "    \n",
        "    return segmented_image\n",
        "\n",
        "# Load the input image\n",
        "image = cv2.imread('/content/2016.07.15_14.38.35_SMG_LE_0N4p5I-AvgLOG_0195.bmp', cv2.IMREAD_GRAYSCALE)\n",
        "\n",
        "# Apply the segmentation algorithm\n",
        "segmented_image = fbse_fawt_segmentation(image)\n",
        "\n",
        "# Display the segmented image\n",
        "plt.imshow(segmented_image, cmap='gray')\n",
        "plt.show()\n"
      ],
      "metadata": {
        "colab": {
          "base_uri": "https://localhost:8080/",
          "height": 269
        },
        "id": "d9LkOSVfn96_",
        "outputId": "d3ddf65e-54f8-46ce-a404-e56d8a2c4643"
      },
      "execution_count": 45,
      "outputs": [
        {
          "output_type": "display_data",
          "data": {
            "text/plain": [
              "<Figure size 432x288 with 1 Axes>"
            ],
            "image/png": "[encoded data removed]"
          },
          "metadata": {
            "needs_background": "light"
          }
        }
      ]
    },
    {
      "cell_type": "code",
      "source": [],
      "metadata": {
        "id": "zJLnWOGvn99F"
      },
      "execution_count": null,
      "outputs": []
    },
    {
      "cell_type": "code",
      "source": [],
      "metadata": {
        "id": "EQKfxUkwn9_Y"
      },
      "execution_count": null,
      "outputs": []
    },
    {
      "cell_type": "code",
      "source": [],
      "metadata": {
        "id": "uDCxlFj4n-Bz"
      },
      "execution_count": null,
      "outputs": []
    },
    {
      "cell_type": "code",
      "source": [],
      "metadata": {
        "id": "YqHc2cMDn-ED"
      },
      "execution_count": null,
      "outputs": []
    },
    {
      "cell_type": "code",
      "source": [],
      "metadata": {
        "id": "t7BscpQHn-GJ"
      },
      "execution_count": null,
      "outputs": []
    },
    {
      "cell_type": "code",
      "source": [],
      "metadata": {
        "id": "Celt6vq_n-Ig"
      },
      "execution_count": null,
      "outputs": []
    }
  ]
}